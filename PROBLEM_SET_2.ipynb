{
 "cells": [
  {
   "cell_type": "code",
   "execution_count": 9,
   "metadata": {},
   "outputs": [],
   "source": [
    "a = 0\n",
    "def b():\n",
    "    global a\n",
    "    a = c(a)\n",
    "def c(a):\n",
    "    return a + 2"
   ]
  },
  {
   "cell_type": "code",
   "execution_count": 10,
   "metadata": {},
   "outputs": [
    {
     "data": {
      "text/plain": [
       "6"
      ]
     },
     "execution_count": 10,
     "metadata": {},
     "output_type": "execute_result"
    }
   ],
   "source": [
    "b()\n",
    "b()\n",
    "b()\n",
    "a"
   ]
  },
  {
   "cell_type": "markdown",
   "metadata": {},
   "source": [
    "first we declare a variable in the global namespace as 0.\n",
    "\n",
    "Then we define function b and point to the same global variable a,\n",
    "then pass it to another function c and store the value returned in a itself.\n",
    "then define function c with 1 variable.\n",
    "and return the global variable a + 2."
   ]
  },
  {
   "cell_type": "code",
   "execution_count": 11,
   "metadata": {},
   "outputs": [
    {
     "name": "stdout",
     "output_type": "stream",
     "text": [
      "File w3c.txt not found.\n"
     ]
    }
   ],
   "source": [
    "def file_length(file_name):\n",
    "    try:\n",
    "        file = open(file_name)\n",
    "        contents = file.read()\n",
    "        file.close()\n",
    "        print(len(contents))\n",
    "    except:\n",
    "        print(\"File\", file_name,\"not found.\")\n",
    "s = file_length('w3c.txt')"
   ]
  },
  {
   "cell_type": "code",
   "execution_count": 1,
   "metadata": {},
   "outputs": [
    {
     "name": "stdout",
     "output_type": "stream",
     "text": [
      "I m a Kangaroo located at coordiantes Kangaroo(0,0)\n",
      "['doll', 'firetruck', 'kitten']\n",
      "I m a Kangaroo located at coordiantes Kangaroo(3,0)\n"
     ]
    }
   ],
   "source": [
    "class Marsupial:\n",
    "    def __init__(self):\n",
    "        self.a = []\n",
    "    \n",
    "    def put_in_pouch(self,str1):\n",
    "        self.a.append(str1)\n",
    "\n",
    "    def pouch_contents(self):\n",
    "        return self.a\n",
    "\n",
    "class Kangaroo(Marsupial):\n",
    "    def __init__(self,xcoord,ycoord):\n",
    "        self.x = xcoord\n",
    "        self.y = ycoord\n",
    "        Marsupial.__init__(self)\n",
    "    \n",
    "    def jump(self,dx,dy):\n",
    "        self.x += dx\n",
    "        self.y +=dy\n",
    "    \n",
    "    def __str__(self):\n",
    "        return 'I m a Kangaroo located at coordiantes Kangaroo({},{})'.format(self.x,self.y)\n",
    "\n",
    "k = Kangaroo(0,0)\n",
    "print(k)\n",
    "k.put_in_pouch('doll')\n",
    "k.put_in_pouch('firetruck')\n",
    "k.put_in_pouch('kitten')\n",
    "print(k.pouch_contents())\n",
    "k.jump(1,0)\n",
    "k.jump(1,0)\n",
    "k.jump(1,0)\n",
    "print(k)"
   ]
  },
  {
   "cell_type": "code",
   "execution_count": 4,
   "metadata": {},
   "outputs": [
    {
     "name": "stdout",
     "output_type": "stream",
     "text": [
      "10\n",
      "5\n",
      "16\n",
      "8\n",
      "4\n",
      "2\n",
      "1\n"
     ]
    }
   ],
   "source": [
    "def collatz(a):\n",
    "    x = a\n",
    "    if x > 1:\n",
    "        if x % 2 == 1:\n",
    "            x = 3*x + 1\n",
    "            print(x)\n",
    "            collatz(x)\n",
    "        else:\n",
    "            x = x//2\n",
    "            print(x)\n",
    "            collatz(x)\n",
    "collatz(3)"
   ]
  },
  {
   "cell_type": "code",
   "execution_count": 5,
   "metadata": {},
   "outputs": [
    {
     "name": "stdout",
     "output_type": "stream",
     "text": [
      "1001"
     ]
    }
   ],
   "source": [
    "# class NTB:\n",
    "#     # def __init__(self):\n",
    "#     #     self.s = \"\"\n",
    "def binary(i):\n",
    "    if (i > 0):\n",
    "        print(i % 2,end = '')\n",
    "        binary(i//2)\n",
    "binary(9)"
   ]
  },
  {
   "cell_type": "code",
   "execution_count": 5,
   "metadata": {},
   "outputs": [],
   "source": [
    "from html.parser import HTMLParser\n",
    "class LinkParser(HTMLParser):\n",
    "    header = ['h1','h2']\n",
    "    temp = None\n",
    "    def handle_starttag(self, tag,attr):\n",
    "        if tag in self.header:\n",
    "            self.tag_holder = tag\n",
    "    \n",
    "    def feed(self,data):\n",
    "        if self.temp =='h1':\n",
    "            print(data)\n",
    "        if self.temp == 'h2':\n",
    "            print(data)\n",
    "infile = open(r'C:\\Users\\Harsh\\Desktop\\college\\w3c.html')\n",
    "content = infile.read()\n",
    "infile.close()\n",
    "\n",
    "parser = LinkParser()\n",
    "parser.feed(content)\n",
    "# print(content)"
   ]
  },
  {
   "cell_type": "code",
   "execution_count": null,
   "metadata": {},
   "outputs": [],
   "source": []
  },
  {
   "cell_type": "markdown",
   "metadata": {},
   "source": [
    "Table name = weather\n",
    "\n",
    "a) SELECT Temperature FROM weather;\n",
    "\n",
    "b) SELECT DISTINCT City FROM weather;\n",
    "\n",
    "c) SELECT * FROM weather WHERE Country='India';\n",
    "\n",
    "d) SELECT * FROM weather WHERE Season='Fall';\n",
    "\n",
    "e) SELECT City, Country, Season FROM weather WHERE\n",
    "Rainfall BETWEEN 200 AND 400;\n",
    "\n",
    "f) SELECT City, Country FROM weather WHERE\n",
    "Season='Fall' AND Temperature > 20 ORDER BY\n",
    "Temperature ASC;\n",
    "\n",
    "g) SELECT SUM (Rainfall) FROM weather WHERE\n",
    "City='Cairo';\n",
    "\n",
    "h) Total Rainfall for each season is as follows:\n",
    "\n",
    "1. SELECT SUM (Rainfall) FROM weather WHERE\n",
    "Season='Fall';\n",
    "2. SELECT SUM(Rainfall) FROM weather WHERE\n",
    "Season-'Summer';\n",
    "3. SELECT SUM(Rainfall) FROM weather WHERE\n",
    "Season='Winter';\n",
    "4. SELECT SUM(Rainfall) FROM weather WHERE\n",
    "season='spring';"
   ]
  },
  {
   "cell_type": "code",
   "execution_count": 19,
   "metadata": {},
   "outputs": [
    {
     "name": "stdout",
     "output_type": "stream",
     "text": [
      "['THE', 'QUICK', 'BROWN', 'FOX', 'JUMPS', 'OVER', 'THE', 'LAZY', 'DOG']\n",
      "['the', 'quick', 'brown', 'fox', 'jumps', 'over', 'the', 'lazy', 'dog']\n",
      "[3, 5, 5, 3, 5, 4, 3, 4, 3]\n",
      "[['THE', 'the', 3], ['QUICK', 'quick', 5], ['BROWN', 'brown', 5], ['FOX', 'fox', 3], ['JUMPS', 'jumps', 5], ['OVER', 'over', 4], ['THE', 'the', 3], ['LAZY', 'lazy', 4], ['DOG', 'dog', 3]]\n",
      "['quick', 'brown', 'jumps', 'over', 'lazy']\n"
     ]
    }
   ],
   "source": [
    "words = ['The', 'quick', 'brown', 'fox', 'jumps', 'over', \n",
    "'the', 'lazy', 'dog']\n",
    "list_1 = [i.upper() for i in words]\n",
    "list_2 = [i.lower() for i in words]\n",
    "list_3 = [len(i) for i in words]\n",
    "list_4 = [[i.upper(),i.lower(), len(i)] for i in words]\n",
    "list_5 = [i for i in words if len(i)>= 4]\n",
    "print(list_1)\n",
    "print(list_2)\n",
    "print(list_3)\n",
    "print(list_4)\n",
    "print(list_5)"
   ]
  }
 ],
 "metadata": {
  "kernelspec": {
   "display_name": "Python 3",
   "language": "python",
   "name": "python3"
  },
  "language_info": {
   "codemirror_mode": {
    "name": "ipython",
    "version": 3
   },
   "file_extension": ".py",
   "mimetype": "text/x-python",
   "name": "python",
   "nbconvert_exporter": "python",
   "pygments_lexer": "ipython3",
   "version": "3.7.4"
  }
 },
 "nbformat": 4,
 "nbformat_minor": 2
}
